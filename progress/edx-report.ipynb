{
 "metadata": {
  "name": ""
 },
 "nbformat": 3,
 "nbformat_minor": 0,
 "worksheets": [
  {
   "cells": [
    {
     "cell_type": "markdown",
     "metadata": {},
     "source": [
      "Get scores from progress dump made with edx-dump"
     ]
    },
    {
     "cell_type": "code",
     "collapsed": false,
     "input": [
      "import os\n",
      "import re\n",
      "import simplejson\n",
      "import time\n",
      "\n",
      "from BeautifulSoup import BeautifulSoup\n",
      "\n",
      "name_pattern = re.compile(\"'(.*)'\")\n",
      "email_pattern = re.compile(\"\\((.*)\\)\")\n",
      "piazza_pattern = re.compile(\"Piazza participation = ([0-9]+)%\")\n",
      "\n",
      "# Headers is a list of the csv header names.\n",
      "headers = ['Name', 'Email', u'Math Self Diagnostic', u'Project 0: UNIX/Python Tutorial', u'Project 0: UNIX/Python Tutorial (practice)',\n",
      "            u'Lecture 2: Uninformed Search', u'Lecture 2: Uninformed Search (continued)', u'Lecture 3: Informed Search',\n",
      "            u'Lecture 3: Informed Search (continued)', u'Homework 1: Search', u'Project 1: Search - Due 5:00 PM MDT, 9/25',\n",
      "            u'Lecture 4: CSPs (extra credit)', u'Lecture 4: CSPs (extra credit) (continued)', u'Homework 2: CSPs (extra credit)',\n",
      "            u'Lecture 5: CSPs II (extra credit)', u'Lecture 5: CSPs II (extra credit) (continued)', u'Lecture 6: Adversarial Search',\n",
      "            u'Homework 3: Games', u'Homework 3: Games (practice)', u'Project 2: Multi-Agent Search', u'Project 2: Multi-Agent Search (practice)',\n",
      "            u'Lecture 7: Uncertainty and Utilities', u'Lecture 8: Markov Decision Processes', u'Homework 4: MDPs',\n",
      "            u'Lecture 9: Markov Decision Processes II', u'Lecture 10: Reinforcement Learning', u'Homework 5: Reinforcement Learning',\n",
      "            u'Project 3: Reinforcement Learning', u'Lecture 11: Reinforcement Learning II', u'Midterm I: Practice Test I',\n",
      "            u'Midterm I: Practice Test II', u'Midterm I: Practice Test III', u\"Homework 6: Probability and Bayes' Nets\",\n",
      "            u'Homework 7: Variable Elimination and Sampling', u'Homework 8: VOI, HMMs, and Particle Filtering', u'Project 4: Ghostbusters',\n",
      "            u'Homework 9: Machine Learning', u'Project 5: Classification', 'Piazza']\n",
      "\n",
      "def scores(progress_file):\n",
      "    \"\"\"Return a dictionary of values for the csv headers from html progress page.\"\"\"\n",
      "\n",
      "    pd = progress_file.read()\n",
      "    soup = BeautifulSoup(pd)\n",
      "    user = soup.findAll('header')[1].getText()\n",
      "    name = name_pattern.findall(user)[0]\n",
      "    email = email_pattern.findall(user)[0]\n",
      "    scores = soup.findAll('span', {'class': 'sr'})\n",
      "    piazza = piazza_pattern.findall(pd)[0]\n",
      "    \n",
      "    d = {'Name': name, 'Email': email, 'Piazza': piazza}\n",
      "    keys = []\n",
      "    for score in scores[3:]:\n",
      "        child_text = score.getText()\n",
      "        parent_text = score.findParent().getText().replace(child_text, '')\n",
      "        points = child_text.replace(' possible points', '').replace(' of ', '/')\n",
      "        d[parent_text] = points\n",
      "        keys.append(parent_text)\n",
      "        \n",
      "    return d\n",
      "\n",
      "def write_csv(lines):\n",
      "    \"\"\"Write a csv file named csv-<timestamp>.\n",
      "    \n",
      "    Args:\n",
      "        lines: A list of dictionaries where keys are the header values for\n",
      "            the csv.\n",
      "    \n",
      "    \"\"\"\n",
      "    ts = time.time()\n",
      "\n",
      "    with open('csv-{}.csv'.format(ts), 'w') as f:\n",
      "        f.write(','.join(headers2) + '\\n')\n",
      "        for line_dict in lines:\n",
      "            f.write(','.join([line_dict[header] if header in line_dict else 'Not Found' for header in headers2]) + '\\n')\n",
      "            "
     ],
     "language": "python",
     "metadata": {},
     "outputs": [],
     "prompt_number": 98
    },
    {
     "cell_type": "code",
     "collapsed": false,
     "input": [
      "lines = []\n",
      "for root, dirs, files in os.walk(\"tests/progress\"):\n",
      "    for name in files:\n",
      "        progress_file = open(os.path.join(root, name))\n",
      "        line = scores(progress_file)\n",
      "        lines.append(line)\n",
      "write_csv(lines)"
     ],
     "language": "python",
     "metadata": {},
     "outputs": [],
     "prompt_number": 99
    }
   ],
   "metadata": {}
  }
 ]
}