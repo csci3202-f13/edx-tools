{
 "metadata": {
  "name": "edx-report"
 },
 "nbformat": 3,
 "nbformat_minor": 0,
 "worksheets": [
  {
   "cells": [
    {
     "cell_type": "markdown",
     "metadata": {},
     "source": [
      "Get scores from progress dump made with edx-dump"
     ]
    },
    {
     "cell_type": "code",
     "collapsed": false,
     "input": [
      "import os\n",
      "import re\n",
      "import simplejson\n",
      "name_pattern = re.compile(\"Course Progress for Student '([^<]*)<\")\n",
      "tooltips_pattern = re.compile(\"var detail_tooltips = ([^;]*);\")\n",
      "\n",
      "def scores(progress_file):\n",
      "    \"\"\"Return name and dictionary of scores from the given progress_file file-like-object\n",
      "    \n",
      "    \"\"\"\n",
      "\n",
      "    pd = progress_file.read()\n",
      "    name_matches = name_pattern.findall(pd)\n",
      "    name = name_matches[0]\n",
      "    tooltips_matches = tooltips_pattern.findall(pd)\n",
      "    tooltips = simplejson.loads(tooltips_matches[0])\n",
      "    return name, tooltips\n"
     ],
     "language": "python",
     "metadata": {},
     "outputs": [],
     "prompt_number": 1
    },
    {
     "cell_type": "code",
     "collapsed": false,
     "input": [
      "grades = []\n",
      "for root, dirs, files in os.walk(\"tests/progress\"):\n",
      "    for name in files:\n",
      "        progress_file = open(os.path.join(root, name))\n",
      "        name, s = scores(progress_file)\n",
      "        #print s\n",
      "        #print s['Homework']\n",
      "        p0 = s['Homework'][0]\n",
      "        hw1 = s['Homework'][1]\n",
      "        grades.append((hw1, p0, name))"
     ],
     "language": "python",
     "metadata": {},
     "outputs": [],
     "prompt_number": 2
    },
    {
     "cell_type": "code",
     "collapsed": false,
     "input": [
      "sorted(grades)\n"
     ],
     "language": "python",
     "metadata": {},
     "outputs": [
      {
       "output_type": "pyout",
       "prompt_number": 5,
       "text": [
        "[('Homework 2 - Homework 1: Search - 80% (24/30)',\n",
        "  'Homework 1 - Project 0: UNIX/Python Tutorial - 100% (3/3)',\n",
        "  \"nealmcb' (neal.mcburnett@colorado.edu)\")]"
       ]
      }
     ],
     "prompt_number": 5
    },
    {
     "cell_type": "code",
     "collapsed": false,
     "input": [],
     "language": "python",
     "metadata": {},
     "outputs": []
    }
   ],
   "metadata": {}
  }
 ]
}