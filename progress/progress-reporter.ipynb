{
 "metadata": {
  "name": ""
 },
 "nbformat": 3,
 "nbformat_minor": 0,
 "worksheets": [
  {
   "cells": [
    {
     "cell_type": "markdown",
     "metadata": {},
     "source": [
      "Using the edx progress report tools\n",
      "===================================\n",
      "\n",
      "Requirements\n",
      "------------\n",
      "\n",
      "You will need the following python libraries installed:\n",
      "\n",
      "* simplejson\n",
      "* beautiful soup\n",
      "\n",
      "Setup\n",
      "-----\n",
      "\n",
      "You will need a config file set up with your edx login cookies and class roster.\n",
      "See the file 'config-example' for details."
     ]
    },
    {
     "cell_type": "code",
     "collapsed": false,
     "input": [
      "# run this command to look at the config-example file\n",
      "!cat config-example"
     ],
     "language": "python",
     "metadata": {},
     "outputs": [
      {
       "output_type": "stream",
       "stream": "stdout",
       "text": [
        "# Config info for edx-dump etc\r\n",
        "\r\n",
        "# Log in to edge.edX and use something like google chrome debugger (cntl-shift-i) to dump an active cookies that will let you in.\r\n",
        "# Here are parts of a few of them as an example of the syntax.\r\n",
        "cookie=\"AWSELB=....; current_player_mode=html5; ...... NRAGENT=tk=...\"\r\n",
        "\r\n",
        "# Specify bits of the the URL that you use to get to the course as an Instructor\r\n",
        "courseserver=https://edge.edx.org/courses\r\n",
        "coursepath=BerkeleyX/CS188x-17/2013_T3\r\n",
        "\r\n",
        "# Get student/user info from the Instructor tab, \"Dump list of enrolled students\"\r\n",
        "userids=\"5020 5519\"\r\n",
        "users=\"nealmcb example2\"\r\n",
        "\r\n",
        "# Get problem ids by looking at urls used during an edX instructor session, or by dumping course from Studio, untaring, and looking in \"problem\" directory.  Strip off the \".xml\" suffix.\r\n",
        "problems=\"002e1a2e855c40e7a1e60e2728b7edc5 00934ba6b2704a26975f3023030592f2\"\r\n"
       ]
      }
     ],
     "prompt_number": 14
    },
    {
     "cell_type": "code",
     "collapsed": false,
     "input": [
      "# run the edx-dump script to download all progress reports\n",
      "# the files are stored in a directory called 'progress'\n",
      "!./edx-dump"
     ],
     "language": "python",
     "metadata": {},
     "outputs": [
      {
       "output_type": "stream",
       "stream": "stdout",
       "text": [
        "progress for userid: 0000\r\n"
       ]
      },
      {
       "output_type": "stream",
       "stream": "stdout",
       "text": [
        "progress for userid: 0001\r\n"
       ]
      }
     ],
     "prompt_number": 15
    },
    {
     "cell_type": "code",
     "collapsed": false,
     "input": [
      "# in python, import the progress module\n",
      "# use the write_progress_csv method to get the csv file\n",
      "\n",
      "import progress\n",
      "\n",
      "# report_dir should be the directory where the html progress reports are\n",
      "report_dir = 'progress'\n",
      "\n",
      "# destination_dir is an optional destination parameter. If not given,\n",
      "# the csv will be written to the current directory. The destination directory\n",
      "# will be created within the current directory.\n",
      "destination_dir = 'my_csvs'\n",
      "\n",
      "csv = progress.write_progress_csv(report_dir, destination_dir, verbose=True)"
     ],
     "language": "python",
     "metadata": {},
     "outputs": [
      {
       "output_type": "stream",
       "stream": "stdout",
       "text": [
        "reading file 0000.20130926T201019.html\n",
        "reading file 0001.20130926T201019.html"
       ]
      },
      {
       "output_type": "stream",
       "stream": "stdout",
       "text": [
        "\n",
        "writing csv file /Users/aarondavis/Courses/CSCI3202/edx-tools/progress/my_csvs/csv-20130926T202232.csv"
       ]
      },
      {
       "output_type": "stream",
       "stream": "stdout",
       "text": [
        "\n",
        "finished!\n"
       ]
      }
     ],
     "prompt_number": 16
    },
    {
     "cell_type": "code",
     "collapsed": false,
     "input": [
      "import pandas as pd\n",
      "import numpy as np\n",
      "\n",
      "g = pd.read_csv(csv)\n",
      "g['HW_3'].describe()"
     ],
     "language": "python",
     "metadata": {},
     "outputs": [
      {
       "metadata": {},
       "output_type": "pyout",
       "prompt_number": 17,
       "text": [
        "count    80.000000\n",
        "mean     36.362500\n",
        "std      15.574438\n",
        "min       0.000000\n",
        "25%      35.750000\n",
        "50%      45.000000\n",
        "75%      45.000000\n",
        "max      45.000000\n",
        "dtype: float64"
       ]
      }
     ],
     "prompt_number": 17
    },
    {
     "cell_type": "code",
     "collapsed": false,
     "input": [
      "g.mean()"
     ],
     "language": "python",
     "metadata": {},
     "outputs": [
      {
       "metadata": {},
       "output_type": "pyout",
       "prompt_number": 18,
       "text": [
        "PROJ_0       2.7625\n",
        "LECT_2       6.6250\n",
        "LECT_2-2     1.7375\n",
        "LECT_3      10.8250\n",
        "LECT_3-2     3.0250\n",
        "HW_1        25.4625\n",
        "PROJ_1       5.0250\n",
        "LECT_4       2.0500\n",
        "LECT_4-2     1.4875\n",
        "HW_2         5.8000\n",
        "LECT_5       0.4250\n",
        "LECT_5-2     0.3375\n",
        "LECT_6       3.1875\n",
        "HW_3        36.3625\n",
        "PROJ_2       0.0000\n",
        "...\n",
        "HW_7:P11     0\n",
        "HW_8:P1      0\n",
        "HW_8:P2      0\n",
        "HW_8:P3      0\n",
        "HW_8:P4      0\n",
        "HW_8:P5      0\n",
        "PROJ_4:P1    0\n",
        "HW_9:P1      0\n",
        "HW_9:P2      0\n",
        "HW_9:P3      0\n",
        "HW_9:P4      0\n",
        "HW_9:P5      0\n",
        "HW_9:P6      0\n",
        "HW_9:P7      0\n",
        "PROJ_5:P1    0\n",
        "Length: 350, dtype: float64"
       ]
      }
     ],
     "prompt_number": 18
    }
   ],
   "metadata": {}
  }
 ]
}