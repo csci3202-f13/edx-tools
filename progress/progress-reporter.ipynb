{
 "metadata": {
  "name": ""
 },
 "nbformat": 3,
 "nbformat_minor": 0,
 "worksheets": [
  {
   "cells": [
    {
     "cell_type": "markdown",
     "metadata": {},
     "source": [
      "Using the edx progress report tools\n",
      "===================================\n",
      "\n",
      "Requirements\n",
      "------------\n",
      "\n",
      "You will need the following python libraries installed:\n",
      "\n",
      "* simplejson\n",
      "* beautiful soup\n",
      "\n",
      "Setup\n",
      "-----\n",
      "\n",
      "You will need a config file set up with your edx login cookies and class roster.\n",
      "See the file 'config-example' for details."
     ]
    },
    {
     "cell_type": "code",
     "collapsed": false,
     "input": [
      "# run this command to look at the config-example file\n",
      "!cat config-example"
     ],
     "language": "python",
     "metadata": {},
     "outputs": []
    },
    {
     "cell_type": "code",
     "collapsed": false,
     "input": [
      "# run the edx-dump script to download all progress reports\n",
      "# the files are stored in a directory called 'progress'\n",
      "!./edx-dump"
     ],
     "language": "python",
     "metadata": {},
     "outputs": []
    },
    {
     "cell_type": "code",
     "collapsed": false,
     "input": [
      "# in python, import the progress module\n",
      "# use the write_progress_csv method to get the csv file\n",
      "\n",
      "import progress\n",
      "\n",
      "# report_dir should be the directory where the html progress reports are\n",
      "report_dir = 'progress'\n",
      "\n",
      "# destination_dir is an optional destination parameter. If not given,\n",
      "# the csv will be written to the current directory. The destination directory\n",
      "# will be created within the current directory.\n",
      "destination_dir = 'my_csvs'\n",
      "\n",
      "progress.write_progress_csv(report_dir, destination_dir)"
     ],
     "language": "python",
     "metadata": {},
     "outputs": []
    }
   ],
   "metadata": {}
  }
 ]
}