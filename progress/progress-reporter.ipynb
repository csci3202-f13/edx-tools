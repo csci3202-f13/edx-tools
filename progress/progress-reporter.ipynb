{
 "metadata": {
  "name": ""
 },
 "nbformat": 3,
 "nbformat_minor": 0,
 "worksheets": [
  {
   "cells": [
    {
     "cell_type": "markdown",
     "metadata": {},
     "source": [
      "Using the edx progress report tools\n",
      "===================================\n",
      "\n",
      "To start, run the edx-dump script to download html progress report files.\n",
      "This requires a configuration file, see the readme.\n",
      "To run the python code, you need to install simplejson, and BeautifulSoup modules.\n",
      "If you have pip, you can run pip install simplejson, and pip install beautifulsoup.\n",
      "See the example code below for writing a csv file of student progress"
     ]
    },
    {
     "cell_type": "code",
     "collapsed": false,
     "input": [
      "import progress\n",
      "\n",
      "# report_dir should be the directory where the html progress reports are\n",
      "report_dir = 'progress'\n",
      "\n",
      "# destination_dir is an optional destination parameter. If not given,\n",
      "# the csv will be written to the current directory. The destination directory\n",
      "# must already exist.\n",
      "destination_dir = 'my_csvs'\n",
      "\n",
      "progress.write_progress_csv(report_dir, destination_dir)"
     ],
     "language": "python",
     "metadata": {},
     "outputs": []
    }
   ],
   "metadata": {}
  }
 ]
}